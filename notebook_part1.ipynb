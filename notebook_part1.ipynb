{
 "cells": [
  {
   "cell_type": "code",
   "execution_count": 1,
   "metadata": {},
   "outputs": [],
   "source": [
    "from part1 import make_deck_of_cards_loops\n",
    "from part1 import make_deck_of_cards\n",
    "from part1 import deal_cards\n",
    "from part1 import processing_players_hand\n",
    "from part1 import transform_value_list\n",
    "from part1 import check_for_suit\n",
    "from part1 import check_for_number_sequence\n",
    "from part1 import show_of_hands"
   ]
  },
  {
   "cell_type": "code",
   "execution_count": 2,
   "metadata": {},
   "outputs": [],
   "source": [
    "vals = [ '2' , '3' , '4' , '5' , '6' , '7' , '8' , '9' , '10' , 'jack' , 'queen' , 'king' , 'ace' ]\n",
    "suits = [ 'spades' , 'clubs' , 'hearts' , 'diamonds' ]"
   ]
  },
  {
   "cell_type": "code",
   "execution_count": 3,
   "metadata": {},
   "outputs": [
    {
     "name": "stdout",
     "output_type": "stream",
     "text": [
      "Length of the deck: 52 \n",
      "\n",
      "[('2', 'spades'), ('3', 'clubs'), ('4', 'hearts'), ('5', 'diamonds'), ('6', 'spades'), ('7', 'clubs'), ('8', 'hearts'), ('9', 'diamonds'), ('10', 'spades'), ('jack', 'clubs'), ('queen', 'hearts'), ('king', 'diamonds'), ('ace', 'spades'), ('2', 'clubs'), ('3', 'hearts'), ('4', 'diamonds'), ('5', 'spades'), ('6', 'clubs'), ('7', 'hearts'), ('8', 'diamonds'), ('9', 'spades'), ('10', 'clubs'), ('jack', 'hearts'), ('queen', 'diamonds'), ('king', 'spades'), ('ace', 'clubs'), ('2', 'hearts'), ('3', 'diamonds'), ('4', 'spades'), ('5', 'clubs'), ('6', 'hearts'), ('7', 'diamonds'), ('8', 'spades'), ('9', 'clubs'), ('10', 'hearts'), ('jack', 'diamonds'), ('queen', 'spades'), ('king', 'clubs'), ('ace', 'hearts'), ('2', 'diamonds'), ('3', 'spades'), ('4', 'clubs'), ('5', 'hearts'), ('6', 'diamonds'), ('7', 'spades'), ('8', 'clubs'), ('9', 'hearts'), ('10', 'diamonds'), ('jack', 'spades'), ('queen', 'clubs'), ('king', 'hearts'), ('ace', 'diamonds')]\n"
     ]
    }
   ],
   "source": [
    "# make_deck_of_cards using lambda and ZIP function\n",
    "\n",
    "deck_of_cards = make_deck_of_cards(vals, suits)\n",
    "\n",
    "print(f\"Length of the deck: {len(deck_of_cards)} \\n\")\n",
    "print(deck_of_cards)"
   ]
  },
  {
   "cell_type": "code",
   "execution_count": 4,
   "metadata": {},
   "outputs": [
    {
     "name": "stdout",
     "output_type": "stream",
     "text": [
      "Length of the deck: 52 \n",
      "\n",
      "[('2', 'spades'), ('3', 'spades'), ('4', 'spades'), ('5', 'spades'), ('6', 'spades'), ('7', 'spades'), ('8', 'spades'), ('9', 'spades'), ('10', 'spades'), ('jack', 'spades'), ('queen', 'spades'), ('king', 'spades'), ('ace', 'spades'), ('2', 'clubs'), ('3', 'clubs'), ('4', 'clubs'), ('5', 'clubs'), ('6', 'clubs'), ('7', 'clubs'), ('8', 'clubs'), ('9', 'clubs'), ('10', 'clubs'), ('jack', 'clubs'), ('queen', 'clubs'), ('king', 'clubs'), ('ace', 'clubs'), ('2', 'hearts'), ('3', 'hearts'), ('4', 'hearts'), ('5', 'hearts'), ('6', 'hearts'), ('7', 'hearts'), ('8', 'hearts'), ('9', 'hearts'), ('10', 'hearts'), ('jack', 'hearts'), ('queen', 'hearts'), ('king', 'hearts'), ('ace', 'hearts'), ('2', 'diamonds'), ('3', 'diamonds'), ('4', 'diamonds'), ('5', 'diamonds'), ('6', 'diamonds'), ('7', 'diamonds'), ('8', 'diamonds'), ('9', 'diamonds'), ('10', 'diamonds'), ('jack', 'diamonds'), ('queen', 'diamonds'), ('king', 'diamonds'), ('ace', 'diamonds')]\n"
     ]
    }
   ],
   "source": [
    "# make_deck_of_cards_loops\n",
    "\n",
    "normal_deck_of_cards = make_deck_of_cards_loops(vals, suits)\n",
    "\n",
    "print(f\"Length of the deck: {len(normal_deck_of_cards)} \\n\")\n",
    "print(normal_deck_of_cards)"
   ]
  },
  {
   "cell_type": "code",
   "execution_count": 5,
   "metadata": {},
   "outputs": [
    {
     "name": "stdout",
     "output_type": "stream",
     "text": [
      "set1 [('4', 'diamonds'), ('7', 'hearts'), ('9', 'clubs')] and length of set 3\n",
      "set2 [('queen', 'hearts'), ('3', 'clubs'), ('ace', 'spades')] and length of set 3\n",
      "set1 [('6', 'hearts'), ('jack', 'spades'), ('jack', 'hearts'), ('10', 'spades')] and length of set 4\n",
      "set2 [('7', 'spades'), ('jack', 'diamonds'), ('8', 'hearts'), ('queen', 'clubs')] and length of set 4\n",
      "set1 [('2', 'hearts'), ('7', 'clubs'), ('10', 'diamonds'), ('5', 'clubs'), ('10', 'hearts')] and length of set 5\n",
      "set2 [('king', 'spades'), ('4', 'clubs'), ('3', 'spades'), ('ace', 'diamonds'), ('6', 'diamonds')] and length of set 5\n"
     ]
    }
   ],
   "source": [
    "# Deal cards to the players\n",
    "\n",
    "set1, set2 = deal_cards(3, deck_of_cards)\n",
    "print(f\"set1 {set1} and length of set {len(set1)}\")\n",
    "print(f\"set2 {set2} and length of set {len(set2)}\")\n",
    "\n",
    "set1, set2 = deal_cards(4, deck_of_cards)\n",
    "print(f\"set1 {set1} and length of set {len(set1)}\")\n",
    "print(f\"set2 {set2} and length of set {len(set2)}\")\n",
    "\n",
    "set1, set2 = deal_cards(5, deck_of_cards)\n",
    "print(f\"set1 {set1} and length of set {len(set1)}\")\n",
    "print(f\"set2 {set2} and length of set {len(set2)}\")"
   ]
  },
  {
   "cell_type": "code",
   "execution_count": 6,
   "metadata": {},
   "outputs": [
    {
     "name": "stdout",
     "output_type": "stream",
     "text": [
      "Player card values: [2, 7, 10, 5, 10]\n",
      "Player suit values: ['hearts', 'clubs', 'diamonds', 'clubs', 'hearts']\n",
      "Player suits are all same: False\n",
      "Player cards are in sequence: False\n"
     ]
    }
   ],
   "source": [
    "# processing_players_hand to seprate the player cards into their values (encoded in int) and suits.\n",
    "# Also, checking the sequence and suit of the cards\n",
    "\n",
    "player_vals, player_suits, color_check_player, sequence_check_player = processing_players_hand(set1, number_of_cards=len(set1))\n",
    "\n",
    "print(f\"Player card values: {player_vals}\")\n",
    "print(f\"Player suit values: {player_suits}\")\n",
    "print(f\"Player suits are all same: {color_check_player}\")\n",
    "print(f\"Player cards are in sequence: {sequence_check_player}\")"
   ]
  },
  {
   "cell_type": "code",
   "execution_count": 7,
   "metadata": {},
   "outputs": [
    {
     "name": "stdout",
     "output_type": "stream",
     "text": [
      "Player card vals: ['2', 'king', 'ace', '10', 'jack']\n",
      "Transformed player card vals: [2, 13, 14, 10, 11]\n"
     ]
    }
   ],
   "source": [
    "# Transform the player_vals into integer, also maps (jack, queen, king, ace) to (11, 12, 13, 14)\n",
    "player_card_vals = ['2','king','ace','10','jack']\n",
    "print(f\"Player card vals: {player_card_vals}\")\n",
    "\n",
    "trans_player_card_vals = transform_value_list(player_card_vals)\n",
    "print(f\"Transformed player card vals: {trans_player_card_vals}\")"
   ]
  },
  {
   "cell_type": "code",
   "execution_count": 8,
   "metadata": {},
   "outputs": [
    {
     "name": "stdout",
     "output_type": "stream",
     "text": [
      "['spade', 'diamond', 'heart', 'heart', 'heart'] --> False\n",
      "['heart', 'heart', 'heart', 'heart', 'heart'] --> True\n"
     ]
    }
   ],
   "source": [
    "# check_for_suit Validate if all the cards dealt are of same suit\n",
    "\n",
    "player_suit = ['spade','diamond','heart','heart','heart']\n",
    "suit_flag = check_for_suit(player_suit)\n",
    "print(f\"{player_suit} --> {suit_flag}\")\n",
    "player_suit = ['heart','heart','heart','heart','heart']\n",
    "suit_flag = check_for_suit(player_suit)\n",
    "print(f\"{player_suit} --> {suit_flag}\")"
   ]
  },
  {
   "cell_type": "code",
   "execution_count": 9,
   "metadata": {},
   "outputs": [
    {
     "name": "stdout",
     "output_type": "stream",
     "text": [
      "['2', 'king', 'ace', '10', 'jack'] --> False\n",
      "['ace', 'king', 'queen', '10', 'jack'] --> True\n"
     ]
    }
   ],
   "source": [
    "# check_for_number_sequence, check for card val sequence\n",
    "\n",
    "p_vals_1 = ['2','king','ace','10','jack']\n",
    "print(f\"{p_vals_1}\",end=\"\")\n",
    "seq_flag = check_for_number_sequence(transform_value_list(p_vals_1))\n",
    "print(f\" --> {seq_flag}\")\n",
    "\n",
    "p_vals_2 = ['ace','king','queen','10','jack']\n",
    "print(f\"{p_vals_2}\",end=\"\")\n",
    "seq_flag = check_for_number_sequence(transform_value_list(p_vals_2))\n",
    "print(f\" --> {seq_flag}\")"
   ]
  },
  {
   "cell_type": "code",
   "execution_count": 10,
   "metadata": {},
   "outputs": [],
   "source": [
    "winning_hand, msg = show_of_hands(set1, set2)"
   ]
  },
  {
   "cell_type": "code",
   "execution_count": 11,
   "metadata": {},
   "outputs": [
    {
     "name": "stdout",
     "output_type": "stream",
     "text": [
      "[('2', 'hearts'), ('7', 'clubs'), ('10', 'diamonds'), ('5', 'clubs'), ('10', 'hearts')]\n",
      "A Pair, Player 1 Wins!\n"
     ]
    }
   ],
   "source": [
    "print(winning_hand)\n",
    "print(msg)"
   ]
  }
 ],
 "metadata": {
  "kernelspec": {
   "display_name": "Python 3",
   "language": "python",
   "name": "python3"
  },
  "language_info": {
   "codemirror_mode": {
    "name": "ipython",
    "version": 3
   },
   "file_extension": ".py",
   "mimetype": "text/x-python",
   "name": "python",
   "nbconvert_exporter": "python",
   "pygments_lexer": "ipython3",
   "version": "3.6.5"
  }
 },
 "nbformat": 4,
 "nbformat_minor": 2
}
