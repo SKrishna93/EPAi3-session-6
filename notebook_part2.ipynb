{
 "cells": [
  {
   "cell_type": "code",
   "execution_count": 1,
   "metadata": {},
   "outputs": [],
   "source": [
    "# Import packages\n",
    "\n",
    "from random import random, randint, uniform"
   ]
  },
  {
   "cell_type": "code",
   "execution_count": 2,
   "metadata": {},
   "outputs": [],
   "source": [
    "# Importing the functions in part2.py\n",
    "\n",
    "from part2 import check_fib_seq\n",
    "from part2 import add_even_odd\n",
    "from part2 import strip_vowel\n",
    "from part2 import sigmoid_func\n",
    "from part2 import shift_literals\n",
    "from part2 import check_for_profanity\n",
    "from part2 import reduce_add_even\n",
    "from part2 import reduce_biggest_char\n",
    "from part2 import add_third_number\n",
    "from part2 import number_plates\n",
    "from part2 import partial_num_plate"
   ]
  },
  {
   "cell_type": "code",
   "execution_count": 3,
   "metadata": {},
   "outputs": [
    {
     "name": "stdout",
     "output_type": "stream",
     "text": [
      "The following numbers are part of the Fibonacci Series: [2, 3, 55, 6765]\n"
     ]
    }
   ],
   "source": [
    "# Check the numbers are part of Fibonacci series or not\n",
    "fib_number_list = [2, 3, 7, 55, 489, 10000, 6765]\n",
    "\n",
    "print(f\"The following numbers are part of the Fibonacci Series: {check_fib_seq(fib_number_list)}\")"
   ]
  },
  {
   "cell_type": "code",
   "execution_count": 4,
   "metadata": {},
   "outputs": [
    {
     "name": "stdout",
     "output_type": "stream",
     "text": [
      "This is the list with even numbers: [14, 72, 68, 64, 26, 34, 34, 16, 20, 96, 96, 92, 64, 52]\n",
      "This is the list with odd numbers: [5, 59, 67, 89, 81, 77, 73, 71, 85, 15, 43, 95]\n",
      "The sum of the Even and Odd list: [19, 131, 135, 153, 107, 111, 107, 87, 105, 111, 139, 187]\n"
     ]
    }
   ],
   "source": [
    "# Add two lists one even and one odd. Enter the number of random integers in the list\n",
    "\n",
    "print(f\"The sum of the Even and Odd list: {add_even_odd(20)}\")"
   ]
  },
  {
   "cell_type": "code",
   "execution_count": 5,
   "metadata": {},
   "outputs": [
    {
     "name": "stdout",
     "output_type": "stream",
     "text": [
      "Pneumonoultramicroscopicsilicovolcanoconiosis has been stripped of its vowels: pnmnltrmcrscpcslcvlcncnss\n"
     ]
    }
   ],
   "source": [
    "# Strip the vowels in a passed string\n",
    "string_with_vowels = \"Pneumonoultramicroscopicsilicovolcanoconiosis\" #is lung disease caused by the inhalation of silica or quartz dust.\n",
    "\n",
    "print(f\"{string_with_vowels} has been stripped of its vowels: {strip_vowel(string_with_vowels)}\")"
   ]
  },
  {
   "cell_type": "code",
   "execution_count": 6,
   "metadata": {},
   "outputs": [
    {
     "name": "stdout",
     "output_type": "stream",
     "text": [
      "The sigmoid value of the input list [-0.8484, 1.12, -0.261, 1.6703, -0.6649] is : [0.2998, 0.754, 0.4351, 0.8416, 0.3396]\n"
     ]
    }
   ],
   "source": [
    "# Sigmoid function\n",
    "\n",
    "inp_list = [round(uniform(-1,2),4) for x in range(5)]\n",
    "\n",
    "print(f\"The sigmoid value of the input list {inp_list} is : {sigmoid_func(inp_list)}\")"
   ]
  },
  {
   "cell_type": "code",
   "execution_count": 7,
   "metadata": {},
   "outputs": [
    {
     "name": "stdout",
     "output_type": "stream",
     "text": [
      "'ocdn dn mzvggt rzdmy' has been shifted: 'this is really weird'\n"
     ]
    }
   ],
   "source": [
    "# Shift literals in a given string by 5 places\n",
    "\n",
    "inp_string = \"ocdn dn mzvggt rzdmy\"\n",
    "\n",
    "print(f\"'{inp_string}' has been shifted: '{shift_literals(inp_string)}'\")"
   ]
  },
  {
   "cell_type": "code",
   "execution_count": 8,
   "metadata": {},
   "outputs": [
    {
     "name": "stdout",
     "output_type": "stream",
     "text": [
      "True\n",
      "False\n"
     ]
    }
   ],
   "source": [
    "# Check for profanity\n",
    "para_with_prof = \"You can’t. You need other words, like pronouns, to be the object of the sentence. \\\n",
    "If you say “fuck,” for example, you need “him” or “you” or “it” to tell us whom, or what, \\\n",
    "should be metaphorically fucked. You can issue the command “Fuck shit up,” but you still need “up” as the adverbial particle. \\\n",
    "In Glaswegian Scots, “fook” is a place you can “get tae” (the complete sentence, “Get tae fook,” means \\\n",
    "“Please depart immediately, or possible harm to your person may ensue”). \\\n",
    "But you still need those other little words in the sentence.\"\n",
    "\n",
    "print(check_for_profanity(para_with_prof))\n",
    "\n",
    "para_without_prof = \"Euouae is six letters long, but all of the letters are vowels. \\\n",
    "It holds two Guinness World Records. It’s the longest English word composed exclusively of vowels, \\\n",
    "and it has the most consecutive vowels of any word. If you are wondering about its meaning, \\\n",
    "it’s a musical term from medieval times.\"\n",
    "\n",
    "print(check_for_profanity(para_without_prof))"
   ]
  },
  {
   "cell_type": "code",
   "execution_count": 9,
   "metadata": {},
   "outputs": [
    {
     "name": "stdout",
     "output_type": "stream",
     "text": [
      "[8, 1, 2, 3, 17, 0, 0, 1, 4, 20] list has been passed and reduced \n",
      "Sum of even elements: 34\n"
     ]
    }
   ],
   "source": [
    "# Reduce a list by adding only even numbers\n",
    "\n",
    "input_list = [randint(0,20) for x in range(10)]\n",
    "\n",
    "print(f\"{input_list} list has been passed and reduced \\nSum of even elements: {reduce_add_even(input_list)}\")"
   ]
  },
  {
   "cell_type": "code",
   "execution_count": 10,
   "metadata": {},
   "outputs": [
    {
     "name": "stdout",
     "output_type": "stream",
     "text": [
      "The largest string literal is 'w'\n"
     ]
    }
   ],
   "source": [
    "# Reduce the passed string to the largest character literal based on the ASCII values\n",
    "\n",
    "input_string = \"Tsktsks is the longest word that does not contain a vowel\"\n",
    "\n",
    "print(f\"The largest string literal is '{reduce_biggest_char(input_string)}'\")"
   ]
  },
  {
   "cell_type": "code",
   "execution_count": 11,
   "metadata": {},
   "outputs": [
    {
     "name": "stdout",
     "output_type": "stream",
     "text": [
      " Sum of every third element in the list [8, 9, 3, 3, 9, 0, 7, 1, 8, 7] is '25'\n"
     ]
    }
   ],
   "source": [
    "# Add every thord number in your list\n",
    "\n",
    "num_list = [randint(0,10) for x in range(10)]\n",
    "\n",
    "print(f\" Sum of every third element in the list {num_list} is '{add_third_number(num_list)}'\")"
   ]
  },
  {
   "cell_type": "code",
   "execution_count": 12,
   "metadata": {},
   "outputs": [
    {
     "name": "stdout",
     "output_type": "stream",
     "text": [
      "The 10 randomly generated number plates are\n"
     ]
    },
    {
     "data": {
      "text/plain": [
       "['KA-78-GV-2433',\n",
       " 'KA-22-IB-5904',\n",
       " 'KA-96-BK-6545',\n",
       " 'KA-57-ON-8970',\n",
       " 'KA-96-ST-8669',\n",
       " 'KA-64-UY-2818',\n",
       " 'KA-59-RS-8406',\n",
       " 'KA-78-XV-5574',\n",
       " 'KA-82-NJ-7478',\n",
       " 'KA-10-QQ-3216']"
      ]
     },
     "execution_count": 12,
     "metadata": {},
     "output_type": "execute_result"
    }
   ],
   "source": [
    "# Number plate generator\n",
    "num = 10\n",
    "print(\"The 10 randomly generated number plates are\")\n",
    "\n",
    "\n",
    "number_plates(10)"
   ]
  },
  {
   "cell_type": "code",
   "execution_count": 13,
   "metadata": {},
   "outputs": [
    {
     "name": "stdout",
     "output_type": "stream",
     "text": [
      "Number plate with DL registration between 1000 and 9999\n",
      "['DL-63-JH-5082', 'DL-93-AB-3267', 'DL-95-LQ-3876', 'DL-44-FU-2558', 'DL-27-OZ-2813', 'DL-50-MT-9109', 'DL-30-CB-3468', 'DL-80-OP-1799', 'DL-98-JC-5183', 'DL-49-PI-2392', 'DL-41-TE-6646', 'DL-51-KQ-3352', 'DL-87-YF-7692', 'DL-25-MC-8927', 'DL-97-YV-4186']\n",
      "\n",
      "\n",
      "Delhi Fancy number plates, generated with number 5555\n",
      "['DL-97-WF-5555', 'DL-15-UF-5555', 'DL-92-GS-5555', 'DL-65-YK-5555', 'DL-43-VU-5555', 'DL-43-GW-5555', 'DL-97-MH-5555', 'DL-63-QU-5555', 'DL-11-FJ-5555', 'DL-86-YZ-5555', 'DL-36-XC-5555', 'DL-32-AM-5555', 'DL-78-XO-5555', 'DL-42-TU-5555', 'DL-77-NV-5555']\n",
      "\n",
      "\n",
      "Number plate with KA registration between 5000 and 5100\n",
      "['KA-91-OU-5009', 'KA-91-HR-5087', 'KA-52-KM-5043', 'KA-11-CR-5074', 'KA-31-MK-5047', 'KA-28-CP-5068', 'KA-79-JT-5012', 'KA-72-ZO-5073', 'KA-32-NX-5078', 'KA-67-OF-5015', 'KA-58-VX-5002', 'KA-23-VU-5027', 'KA-96-WG-5066', 'KA-71-YQ-5077', 'KA-53-GY-5096']\n"
     ]
    }
   ],
   "source": [
    "# Number plate generator using partial functions\n",
    "# Provide state 'KA' or 'DL' as input\n",
    "# plates are hardcoded to be generated between 1000 and 9999, modify as per need\n",
    "\n",
    "print(\"Number plate with DL registration between 1000 and 9999\")\n",
    "print(partial_num_plate('DL'))\n",
    "print(\"\\n\")\n",
    "print(\"Delhi Fancy number plates, generated with number 5555\")\n",
    "print(partial_num_plate('DL',5555,5555))\n",
    "print(\"\\n\")\n",
    "print(\"Number plate with KA registration between 5000 and 5100\")\n",
    "print(partial_num_plate('KA',5000,5100))"
   ]
  }
 ],
 "metadata": {
  "kernelspec": {
   "display_name": "Python 3",
   "language": "python",
   "name": "python3"
  },
  "language_info": {
   "codemirror_mode": {
    "name": "ipython",
    "version": 3
   },
   "file_extension": ".py",
   "mimetype": "text/x-python",
   "name": "python",
   "nbconvert_exporter": "python",
   "pygments_lexer": "ipython3",
   "version": "3.6.5"
  }
 },
 "nbformat": 4,
 "nbformat_minor": 2
}
